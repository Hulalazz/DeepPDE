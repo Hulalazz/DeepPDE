{
 "cells": [
  {
   "cell_type": "code",
   "execution_count": 17,
   "metadata": {},
   "outputs": [],
   "source": [
    "import torch\n",
    "import torchvision\n",
    "from torch import nn\n",
    "from torch.autograd import Variable\n",
    "from torch.utils.data import DataLoader\n",
    "from torchvision import transforms\n",
    "from IPython import display"
   ]
  },
  {
   "cell_type": "code",
   "execution_count": 18,
   "metadata": {},
   "outputs": [],
   "source": [
    "%matplotlib inline\n",
    "import numpy as np\n",
    "import scipy.sparse as scsp\n",
    "import matplotlib.pyplot as plt\n",
    "import scipy.linalg as sclin\n",
    "import scipy.sparse.linalg as scspl\n",
    "from tqdm import tqdm"
   ]
  },
  {
   "cell_type": "markdown",
   "metadata": {},
   "source": [
    "## Load data"
   ]
  },
  {
   "cell_type": "code",
   "execution_count": 19,
   "metadata": {},
   "outputs": [],
   "source": [
    "n = 32\n",
    "sigma = 1e-3\n",
    "size = 5000"
   ]
  },
  {
   "cell_type": "code",
   "execution_count": 20,
   "metadata": {},
   "outputs": [],
   "source": [
    "data = np.load(\"./data_n{}_sigma{}_size{}.npz\".format(n, sigma, size))\n",
    "X = data[\"X\"]\n",
    "y = data[\"y\"]"
   ]
  },
  {
   "cell_type": "code",
   "execution_count": 21,
   "metadata": {},
   "outputs": [
    {
     "data": {
      "text/plain": [
       "<matplotlib.image.AxesImage at 0x10d173898>"
      ]
     },
     "execution_count": 21,
     "metadata": {},
     "output_type": "execute_result"
    },
    {
     "data": {
      "image/png": "[encoded data removed]",
      "text/plain": [
       "<Figure size 432x288 with 1 Axes>"
      ]
     },
     "metadata": {},
     "output_type": "display_data"
    }
   ],
   "source": [
    "plt.imshow(X[3])"
   ]
  },
  {
   "cell_type": "markdown",
   "metadata": {},
   "source": [
    "## Linear encoder via SVD"
   ]
  },
  {
   "cell_type": "code",
   "execution_count": 22,
   "metadata": {},
   "outputs": [
    {
     "name": "stdout",
     "output_type": "stream",
     "text": [
      "(5000, 1024)\n"
     ]
    }
   ],
   "source": [
    "X_reshape = X.reshape(-1, n*n)\n",
    "print(X_reshape.shape)\n",
    "U, s, V = np.linalg.svd(X_reshape)"
   ]
  },
  {
   "cell_type": "code",
   "execution_count": 23,
   "metadata": {},
   "outputs": [
    {
     "data": {
      "text/plain": [
       "[<matplotlib.lines.Line2D at 0x151de33208>]"
      ]
     },
     "execution_count": 23,
     "metadata": {},
     "output_type": "execute_result"
    },
    {
     "data": {
      "image/png": "[encoded data removed]",
      "text/plain": [
       "<Figure size 432x288 with 1 Axes>"
      ]
     },
     "metadata": {},
     "output_type": "display_data"
    }
   ],
   "source": [
    "plt.semilogy(s)"
   ]
  },
  {
   "cell_type": "code",
   "execution_count": 24,
   "metadata": {},
   "outputs": [
    {
     "name": "stdout",
     "output_type": "stream",
     "text": [
      "Relative error = 0.016195448471898813\n"
     ]
    }
   ],
   "source": [
    "hidden_dim = 50\n",
    "print(\"Relative error = {}\".format(np.linalg.norm(X_reshape - \n",
    "      U[:, :hidden_dim] @ np.diagflat(s[:hidden_dim]) @ V[:hidden_dim, :]) / np.linalg.norm(X_reshape)))"
   ]
  },
  {
   "cell_type": "markdown",
   "metadata": {},
   "source": [
    "## Nonlinear encoder"
   ]
  },
  {
   "cell_type": "code",
   "execution_count": 25,
   "metadata": {},
   "outputs": [],
   "source": [
    "class nonlinear_autoencoder(nn.Module):\n",
    "    def __init__(self, input_dim, hidden_dim, encoder_dims, activation=None, batch_norm=False):\n",
    "        super(nonlinear_autoencoder, self).__init__()\n",
    "        if len(encoder_dims) > 0:\n",
    "            encoder_layers = [nn.Linear(input_dim, encoder_dims[0])]\n",
    "            if batch_norm:\n",
    "                encoder_layers.append(nn.BatchNorm1d(encoder_dims[0]))\n",
    "            for i in range(len(encoder_dims)-1):\n",
    "                if activation is not None:\n",
    "                    encoder_layers.append(activation)\n",
    "                encoder_layers.append(nn.Linear(encoder_dims[i], encoder_dims[i+1]))\n",
    "                if batch_norm:\n",
    "                    encoder_layers.append(nn.BatchNorm1d(encoder_dims[i+1]))\n",
    "            else:\n",
    "                if activation is not None:\n",
    "                    encoder_layers.append(activation)\n",
    "                encoder_layers.append(nn.Linear(encoder_dims[-1], hidden_dim))\n",
    "                if batch_norm:\n",
    "                    encoder_layers.append(nn.BatchNorm1d(hidden_dim))\n",
    "        else:\n",
    "            encoder_layers = [nn.Linear(input_dim, hidden_dim)]\n",
    "        \n",
    "        self.encoder = nn.Sequential(*encoder_layers)\n",
    "        \n",
    "        if len(encoder_dims) > 0:\n",
    "            decoder_layers = [nn.Linear(hidden_dim, encoder_dims[-1])]\n",
    "            if batch_norm:\n",
    "                decoder_layers.append(nn.BatchNorm1d(encoder_dims[-1]))\n",
    "            for i in range(len(encoder_dims)-1, 0, -1):\n",
    "                if activation is not None:\n",
    "                    decoder_layers.append(activation)\n",
    "                decoder_layers.append(nn.Linear(encoder_dims[i], encoder_dims[i-1]))\n",
    "                if batch_norm:\n",
    "                    decoder_layers.append(nn.BatchNorm1d(encoder_dims[i-1]))\n",
    "            else:\n",
    "                if activation is not None:\n",
    "                    decoder_layers.append(activation)\n",
    "                decoder_layers.append(nn.Linear(encoder_dims[0], input_dim))\n",
    "                if batch_norm:\n",
    "                    decoder_layers.append(nn.BatchNorm1d(input_dim))\n",
    "        else:\n",
    "            decoder_layers = [nn.Linear(hidden_dim, input_dim)]\n",
    "        \n",
    "        self.decoder = nn.Sequential(*decoder_layers)\n",
    "\n",
    "    def forward(self, x):\n",
    "        x = self.encoder(x)\n",
    "        x = self.decoder(x)\n",
    "        return x"
   ]
  },
  {
   "cell_type": "code",
   "execution_count": 90,
   "metadata": {},
   "outputs": [],
   "source": [
    "learning_rate = 1e-4\n",
    "num_epochs = 100\n",
    "batch_size = 100"
   ]
  },
  {
   "cell_type": "code",
   "execution_count": 91,
   "metadata": {},
   "outputs": [],
   "source": [
    "dataloader = DataLoader(X_reshape.astype(np.float32), batch_size=batch_size, shuffle=True)"
   ]
  },
  {
   "cell_type": "code",
   "execution_count": 112,
   "metadata": {},
   "outputs": [
    {
     "name": "stdout",
     "output_type": "stream",
     "text": [
      "nonlinear_autoencoder(\n",
      "  (encoder): Sequential(\n",
      "    (0): Linear(in_features=1024, out_features=512, bias=True)\n",
      "    (1): ReLU(inplace)\n",
      "    (2): Linear(in_features=512, out_features=256, bias=True)\n",
      "    (3): ReLU(inplace)\n",
      "    (4): Linear(in_features=256, out_features=128, bias=True)\n",
      "    (5): ReLU(inplace)\n",
      "    (6): Linear(in_features=128, out_features=64, bias=True)\n",
      "    (7): ReLU(inplace)\n",
      "    (8): Linear(in_features=64, out_features=50, bias=True)\n",
      "  )\n",
      "  (decoder): Sequential(\n",
      "    (0): Linear(in_features=50, out_features=64, bias=True)\n",
      "    (1): ReLU(inplace)\n",
      "    (2): Linear(in_features=64, out_features=128, bias=True)\n",
      "    (3): ReLU(inplace)\n",
      "    (4): Linear(in_features=128, out_features=256, bias=True)\n",
      "    (5): ReLU(inplace)\n",
      "    (6): Linear(in_features=256, out_features=512, bias=True)\n",
      "    (7): ReLU(inplace)\n",
      "    (8): Linear(in_features=512, out_features=1024, bias=True)\n",
      "  )\n",
      ")\n"
     ]
    }
   ],
   "source": [
    "encoder_dims = [512, 256, 128, 64]\n",
    "activation = nn.ReLU(inplace=True)\n",
    "# activation = nn.Dropout(p=0.1)\n",
    "\n",
    "model = nonlinear_autoencoder(n*n, hidden_dim, encoder_dims, activation, batch_norm=False)\n",
    "print(model)\n",
    "criterion = nn.MSELoss()"
   ]
  },
  {
   "cell_type": "code",
   "execution_count": 113,
   "metadata": {},
   "outputs": [],
   "source": [
    "optimizer = torch.optim.Adam(model.parameters(), lr=learning_rate, weight_decay=0)\n",
    "# optimizer = torch.optim.SGD(model.parameters(), momentum=0.8, lr=learning_rate)"
   ]
  },
  {
   "cell_type": "code",
   "execution_count": 114,
   "metadata": {},
   "outputs": [],
   "source": [
    "def train(model, optimizer, num_epochs, dataloader, yscale=\"log\"):\n",
    "    loss_hist = []\n",
    "    for epoch in range(num_epochs):\n",
    "        current_loss = []\n",
    "        for img in dataloader:\n",
    "            img = img.view(img.size(0), -1)\n",
    "            img = Variable(img)\n",
    "            # ===================forward=====================\n",
    "            output = model(img)\n",
    "            loss = criterion(output, img)\n",
    "            current_loss.append(loss.data)\n",
    "            # ===================backward====================\n",
    "            optimizer.zero_grad()\n",
    "            loss.backward()\n",
    "            optimizer.step()\n",
    "        # ===================log========================\n",
    "        display.clear_output(wait=True)\n",
    "        plt.figure(figsize=(8, 6))\n",
    "\n",
    "        plt.title(\"Training loss\")\n",
    "        plt.xlabel(\"#iteration\")\n",
    "        plt.ylabel(\"loss\")\n",
    "        loss_hist.append(np.mean(np.array(current_loss)))\n",
    "        plt.plot(loss_hist, 'b')\n",
    "        if yscale == \"log\":\n",
    "            plt.yscale(\"log\")\n",
    "        plt.show()"
   ]
  },
  {
   "cell_type": "code",
   "execution_count": 115,
   "metadata": {},
   "outputs": [
    {
     "data": {
      "image/png": "[encoded data removed]",
      "text/plain": [
       "<Figure size 576x432 with 1 Axes>"
      ]
     },
     "metadata": {},
     "output_type": "display_data"
    }
   ],
   "source": [
    "train(model, optimizer, num_epochs, dataloader, \"log\")"
   ]
  },
  {
   "cell_type": "code",
   "execution_count": 116,
   "metadata": {},
   "outputs": [
    {
     "name": "stdout",
     "output_type": "stream",
     "text": [
      "0.13540732459285304\n"
     ]
    }
   ],
   "source": [
    "model.eval()\n",
    "X_restored = model(Variable(torch.FloatTensor(X_reshape)))\n",
    "print((np.linalg.norm(X_restored.data.numpy() - X_reshape)) / (np.linalg.norm(X_reshape)))"
   ]
  }
 ],
 "metadata": {
  "kernelspec": {
   "display_name": "Python (pytorch)",
   "language": "python",
   "name": "pytorch"
  },
  "language_info": {
   "codemirror_mode": {
    "name": "ipython",
    "version": 3
   },
   "file_extension": ".py",
   "mimetype": "text/x-python",
   "name": "python",
   "nbconvert_exporter": "python",
   "pygments_lexer": "ipython3",
   "version": "3.5.5"
  }
 },
 "nbformat": 4,
 "nbformat_minor": 2
}
